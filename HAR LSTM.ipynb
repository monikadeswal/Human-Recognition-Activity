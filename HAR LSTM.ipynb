{
 "cells": [
  {
   "cell_type": "code",
   "execution_count": 49,
   "metadata": {},
   "outputs": [],
   "source": [
    "import pandas as pd\n",
    "import numpy as np\n",
    "# Importing tensorflow\n",
    "np.random.seed(42)\n",
    "import tensorflow as tf\n",
    "tf.set_random_seed(42)"
   ]
  },
  {
   "cell_type": "code",
   "execution_count": 50,
   "metadata": {},
   "outputs": [],
   "source": [
    "ACTIVITIES = {\n",
    "    0: 'WALKING',\n",
    "    1: 'WALKING_UPSTAIRS',\n",
    "    2: 'WALKING_DOWNSTAIRS',\n",
    "    3: 'SITTING',\n",
    "    4: 'STANDING',\n",
    "    5: 'LAYING',\n",
    "}\n",
    "\n",
    "def confusion_matrix(Y_true, Y_pred):\n",
    "    Y_true = pd.Series([ACTIVITIES[y] for y in np.argmax(Y_true, axis=1)])\n",
    "    Y_pred = pd.Series([ACTIVITIES[y] for y in np.argmax(Y_pred, axis=1)])\n",
    "    return pd.crosstab(Y_true, Y_pred, rownames=['True'], colnames=['Pred'])"
   ]
  },
  {
   "cell_type": "code",
   "execution_count": 51,
   "metadata": {},
   "outputs": [],
   "source": [
    "# Data directory\n",
    "DATADIR = 'UCI_HAR_Dataset'"
   ]
  },
  {
   "cell_type": "code",
   "execution_count": 52,
   "metadata": {},
   "outputs": [],
   "source": [
    "SIGNALS = [\n",
    "    \"body_acc_x\",\n",
    "    \"body_acc_y\",\n",
    "    \"body_acc_z\",\n",
    "    \"body_gyro_x\",\n",
    "    \"body_gyro_y\",\n",
    "    \"body_gyro_z\",\n",
    "    \"total_acc_x\",\n",
    "    \"total_acc_y\",\n",
    "    \"total_acc_z\"\n",
    "]"
   ]
  },
  {
   "cell_type": "code",
   "execution_count": 53,
   "metadata": {},
   "outputs": [],
   "source": [
    "def _read_csv(filename):\n",
    "    return pd.read_csv(filename, delim_whitespace=True, header= None)\n",
    "def load_signals(subset):\n",
    "    signals_data=[]\n",
    "    for signal in SIGNALS:\n",
    "        filename = f'{signal}_{subset}.txt'\n",
    "        signals_data.append(_read_csv(filename).as_matrix())\n",
    "        return np.transpose(signals_data, (1, 2, 0))"
   ]
  },
  {
   "cell_type": "code",
   "execution_count": 54,
   "metadata": {},
   "outputs": [],
   "source": [
    "def load_y(subset):\n",
    "    filename = f'y_{subset}.txt'\n",
    "    y = _read_csv(filename)[0]\n",
    "    return pd.get_dummies(y).as_matrix()"
   ]
  },
  {
   "cell_type": "code",
   "execution_count": 55,
   "metadata": {},
   "outputs": [],
   "source": [
    "def load_data():\n",
    "    \"\"\"\n",
    "    Obtain the dataset from multiple files.\n",
    "    Returns: X_train, X_test, y_train, y_test\n",
    "    \"\"\"\n",
    "    X_train, X_test = load_signals('train'), load_signals('test')\n",
    "    y_train, y_test = load_y('train'), load_y('test')\n",
    "\n",
    "    return X_train, X_test, y_train, y_test"
   ]
  },
  {
   "cell_type": "code",
   "execution_count": 56,
   "metadata": {},
   "outputs": [],
   "source": [
    "session_conf=tf.ConfigProto(inter_op_parallelism_threads=1, intra_op_parallelism_threads=1)"
   ]
  },
  {
   "cell_type": "code",
   "execution_count": 57,
   "metadata": {},
   "outputs": [],
   "source": [
    "from keras import backend as K"
   ]
  },
  {
   "cell_type": "code",
   "execution_count": 58,
   "metadata": {},
   "outputs": [],
   "source": [
    "sess=tf.Session(graph=tf.get_default_graph(),config=session_conf)\n",
    "K.set_session(sess)"
   ]
  },
  {
   "cell_type": "code",
   "execution_count": 59,
   "metadata": {},
   "outputs": [],
   "source": [
    "# Importing libraries\n",
    "from keras.models import Sequential\n",
    "from keras.layers import LSTM\n",
    "from keras.layers.core import Dense, Dropout"
   ]
  },
  {
   "cell_type": "code",
   "execution_count": 60,
   "metadata": {},
   "outputs": [],
   "source": [
    "epochs = 30\n",
    "batch_size = 16\n",
    "n_hidden = 32"
   ]
  },
  {
   "cell_type": "code",
   "execution_count": 61,
   "metadata": {},
   "outputs": [],
   "source": [
    "def _count_classes(y):\n",
    "    return len(set([tuple(category) for category in y]))"
   ]
  },
  {
   "cell_type": "code",
   "execution_count": 62,
   "metadata": {},
   "outputs": [
    {
     "name": "stderr",
     "output_type": "stream",
     "text": [
      "C:\\Users\\mondeswa\\AppData\\Local\\Continuum\\anaconda3\\lib\\site-packages\\ipykernel_launcher.py:7: FutureWarning: Method .as_matrix will be removed in a future version. Use .values instead.\n",
      "  import sys\n",
      "C:\\Users\\mondeswa\\AppData\\Local\\Continuum\\anaconda3\\lib\\site-packages\\ipykernel_launcher.py:4: FutureWarning: Method .as_matrix will be removed in a future version. Use .values instead.\n",
      "  after removing the cwd from sys.path.\n"
     ]
    }
   ],
   "source": [
    "X_train, X_test, Y_train, Y_test = load_data()"
   ]
  },
  {
   "cell_type": "code",
   "execution_count": 63,
   "metadata": {},
   "outputs": [
    {
     "name": "stdout",
     "output_type": "stream",
     "text": [
      "[[[ 1.808515e-04]\n",
      "  [ 1.013856e-02]\n",
      "  [ 9.275574e-03]\n",
      "  ...\n",
      "  [-1.147484e-03]\n",
      "  [-2.222655e-04]\n",
      "  [ 1.575500e-03]]\n",
      "\n",
      " [[ 1.093752e-03]\n",
      "  [ 4.550077e-03]\n",
      "  [ 2.879173e-03]\n",
      "  ...\n",
      "  [-4.646144e-03]\n",
      "  [-2.941333e-03]\n",
      "  [-1.598751e-03]]\n",
      "\n",
      " [[ 3.531266e-03]\n",
      "  [ 2.285063e-03]\n",
      "  [-4.197538e-04]\n",
      "  ...\n",
      "  [ 1.245999e-03]\n",
      "  [ 3.116783e-03]\n",
      "  [ 2.177658e-03]]\n",
      "\n",
      " ...\n",
      "\n",
      " [[-2.267175e-01]\n",
      "  [-1.778169e-01]\n",
      "  [-1.508691e-01]\n",
      "  ...\n",
      "  [-2.949353e-01]\n",
      "  [-2.434030e-01]\n",
      "  [-2.152148e-01]]\n",
      "\n",
      " [[-6.480597e-02]\n",
      "  [-7.993300e-02]\n",
      "  [-6.834966e-02]\n",
      "  ...\n",
      "  [-3.150159e-01]\n",
      "  [-3.307374e-01]\n",
      "  [-2.723475e-01]]\n",
      "\n",
      " [[-1.944707e-01]\n",
      "  [-1.738025e-01]\n",
      "  [-1.275446e-01]\n",
      "  ...\n",
      "  [-7.190685e-02]\n",
      "  [-1.422088e-01]\n",
      "  [-1.709989e-01]]]\n"
     ]
    }
   ],
   "source": [
    "print(X_train)"
   ]
  },
  {
   "cell_type": "code",
   "execution_count": 64,
   "metadata": {},
   "outputs": [
    {
     "name": "stdout",
     "output_type": "stream",
     "text": [
      "[[ 1.808515e-04]\n",
      " [ 1.013856e-02]\n",
      " [ 9.275574e-03]\n",
      " [ 5.065897e-03]\n",
      " [ 1.081025e-02]\n",
      " [ 4.045101e-03]\n",
      " [ 4.757375e-03]\n",
      " [ 6.213647e-03]\n",
      " [ 3.306744e-03]\n",
      " [ 7.571941e-03]\n",
      " [ 5.407117e-03]\n",
      " [ 6.221276e-03]\n",
      " [ 6.895028e-03]\n",
      " [ 4.610260e-03]\n",
      " [ 7.331333e-03]\n",
      " [ 5.077667e-03]\n",
      " [ 5.762556e-03]\n",
      " [ 6.692748e-03]\n",
      " [ 5.443238e-03]\n",
      " [ 8.240952e-03]\n",
      " [ 6.506451e-03]\n",
      " [ 6.531523e-03]\n",
      " [ 7.422441e-03]\n",
      " [ 5.771769e-03]\n",
      " [ 6.240187e-03]\n",
      " [ 4.622982e-03]\n",
      " [ 4.832962e-03]\n",
      " [ 5.498746e-03]\n",
      " [ 4.341186e-03]\n",
      " [ 5.098018e-03]\n",
      " [ 4.268742e-03]\n",
      " [ 3.045187e-03]\n",
      " [ 3.204192e-03]\n",
      " [ 4.520400e-03]\n",
      " [ 5.127211e-03]\n",
      " [ 3.549791e-03]\n",
      " [ 4.234233e-03]\n",
      " [ 4.468670e-03]\n",
      " [ 3.572702e-03]\n",
      " [ 5.136278e-03]\n",
      " [ 5.379786e-03]\n",
      " [ 4.408520e-03]\n",
      " [ 2.244039e-03]\n",
      " [-1.183598e-03]\n",
      " [-6.795342e-04]\n",
      " [ 2.281389e-03]\n",
      " [ 3.653728e-03]\n",
      " [ 2.312639e-03]\n",
      " [-4.042194e-05]\n",
      " [ 5.342254e-04]\n",
      " [ 2.963263e-03]\n",
      " [ 4.399468e-03]\n",
      " [ 2.702339e-03]\n",
      " [ 3.452310e-04]\n",
      " [ 2.916911e-03]\n",
      " [ 4.978556e-03]\n",
      " [ 3.446870e-03]\n",
      " [ 4.378151e-03]\n",
      " [ 5.006170e-03]\n",
      " [ 1.996795e-03]\n",
      " [-4.718596e-04]\n",
      " [-7.555679e-04]\n",
      " [-1.528170e-03]\n",
      " [-2.391153e-03]\n",
      " [ 1.093752e-03]\n",
      " [ 4.550077e-03]\n",
      " [ 2.879173e-03]\n",
      " [ 2.247428e-03]\n",
      " [ 3.304683e-03]\n",
      " [ 2.415886e-03]\n",
      " [ 1.618559e-03]\n",
      " [ 9.813523e-04]\n",
      " [ 8.885330e-06]\n",
      " [-3.627647e-04]\n",
      " [-4.870227e-04]\n",
      " [-3.559582e-04]\n",
      " [-2.291606e-04]\n",
      " [-1.311498e-04]\n",
      " [-4.411480e-04]\n",
      " [-1.565163e-03]\n",
      " [-9.294028e-04]\n",
      " [ 8.719952e-06]\n",
      " [-1.236221e-03]\n",
      " [-9.112467e-04]\n",
      " [-4.350345e-04]\n",
      " [-1.176794e-03]\n",
      " [ 1.646136e-04]\n",
      " [ 7.508280e-04]\n",
      " [ 3.886628e-04]\n",
      " [ 1.327517e-03]\n",
      " [ 2.052525e-03]\n",
      " [ 2.737531e-03]\n",
      " [ 2.742893e-03]\n",
      " [ 1.330037e-03]\n",
      " [-3.669915e-04]\n",
      " [-7.216569e-04]\n",
      " [-1.903602e-03]\n",
      " [-4.294253e-03]\n",
      " [-2.508177e-05]\n",
      " [ 5.250842e-03]\n",
      " [ 2.489833e-03]\n",
      " [ 8.106328e-04]\n",
      " [ 1.166027e-03]\n",
      " [-6.930307e-04]\n",
      " [-7.724243e-05]\n",
      " [ 5.036869e-04]\n",
      " [-4.946030e-04]\n",
      " [ 1.562458e-04]\n",
      " [ 6.459274e-05]\n",
      " [-3.200566e-04]\n",
      " [ 1.853520e-04]\n",
      " [-3.749041e-04]\n",
      " [-1.012818e-03]\n",
      " [-1.611370e-03]\n",
      " [-1.764940e-03]\n",
      " [-6.357269e-04]\n",
      " [ 1.047456e-03]\n",
      " [ 3.018694e-03]\n",
      " [ 1.412165e-03]\n",
      " [-1.509140e-03]\n",
      " [ 6.024601e-05]\n",
      " [ 4.354225e-04]\n",
      " [-8.185338e-04]\n",
      " [ 2.276555e-04]\n",
      " [-2.998938e-04]\n",
      " [-1.147484e-03]\n",
      " [-2.222655e-04]\n",
      " [ 1.575500e-03]]\n"
     ]
    }
   ],
   "source": [
    "print(X_train[0])"
   ]
  },
  {
   "cell_type": "code",
   "execution_count": 67,
   "metadata": {},
   "outputs": [
    {
     "name": "stdout",
     "output_type": "stream",
     "text": [
      "[0.00018085]\n",
      "[0.01165315]\n"
     ]
    }
   ],
   "source": [
    "print(X_train[0][0])\n",
    "print(X_test[0][0])"
   ]
  },
  {
   "cell_type": "code",
   "execution_count": 66,
   "metadata": {},
   "outputs": [
    {
     "name": "stdout",
     "output_type": "stream",
     "text": [
      "128\n",
      "1\n",
      "7352\n"
     ]
    }
   ],
   "source": [
    "timesteps = len(X_train[0])\n",
    "input_dim = len(X_train[0][0])\n",
    "n_classes = _count_classes(Y_train)\n",
    "\n",
    "print(timesteps)\n",
    "print(input_dim)\n",
    "print(len(X_train))"
   ]
  },
  {
   "cell_type": "code",
   "execution_count": 68,
   "metadata": {},
   "outputs": [
    {
     "name": "stdout",
     "output_type": "stream",
     "text": [
      "WARNING:tensorflow:From C:\\Users\\mondeswa\\AppData\\Local\\Continuum\\anaconda3\\lib\\site-packages\\tensorflow\\python\\ops\\resource_variable_ops.py:435: colocate_with (from tensorflow.python.framework.ops) is deprecated and will be removed in a future version.\n",
      "Instructions for updating:\n",
      "Colocations handled automatically by placer.\n",
      "Model: \"sequential_1\"\n",
      "_________________________________________________________________\n",
      "Layer (type)                 Output Shape              Param #   \n",
      "=================================================================\n",
      "lstm_1 (LSTM)                (None, 32)                4352      \n",
      "_________________________________________________________________\n",
      "dropout_1 (Dropout)          (None, 32)                0         \n",
      "_________________________________________________________________\n",
      "dense_1 (Dense)              (None, 6)                 198       \n",
      "=================================================================\n",
      "Total params: 4,550\n",
      "Trainable params: 4,550\n",
      "Non-trainable params: 0\n",
      "_________________________________________________________________\n"
     ]
    }
   ],
   "source": [
    "# Initiliazing the sequential model\n",
    "model = Sequential()\n",
    "# Configuring the parameters\n",
    "model.add(LSTM(n_hidden, input_shape=(timesteps, input_dim)))\n",
    "# Adding a dropout layer\n",
    "model.add(Dropout(0.5))\n",
    "# Adding a dense output layer with sigmoid activation\n",
    "model.add(Dense(n_classes, activation='sigmoid'))\n",
    "model.summary()"
   ]
  },
  {
   "cell_type": "code",
   "execution_count": 69,
   "metadata": {},
   "outputs": [],
   "source": [
    "# Compiling the model\n",
    "model.compile(loss='categorical_crossentropy',\n",
    "              optimizer='rmsprop',\n",
    "              metrics=['accuracy'])"
   ]
  },
  {
   "cell_type": "code",
   "execution_count": 70,
   "metadata": {},
   "outputs": [
    {
     "name": "stdout",
     "output_type": "stream",
     "text": [
      "WARNING:tensorflow:From C:\\Users\\mondeswa\\AppData\\Local\\Continuum\\anaconda3\\lib\\site-packages\\tensorflow\\python\\ops\\math_ops.py:3066: to_int32 (from tensorflow.python.ops.math_ops) is deprecated and will be removed in a future version.\n",
      "Instructions for updating:\n",
      "Use tf.cast instead.\n",
      "Train on 7352 samples, validate on 2947 samples\n",
      "Epoch 1/30\n",
      "7352/7352 [==============================] - 44s 6ms/step - loss: 1.4138 - accuracy: 0.3058 - val_loss: 1.1496 - val_accuracy: 0.3461\n",
      "Epoch 2/30\n",
      "7352/7352 [==============================] - 44s 6ms/step - loss: 1.1710 - accuracy: 0.3444 - val_loss: 1.1414 - val_accuracy: 0.3488\n",
      "Epoch 3/30\n",
      "7352/7352 [==============================] - 43s 6ms/step - loss: 1.2053 - accuracy: 0.3395 - val_loss: 1.4881 - val_accuracy: 0.2782\n",
      "Epoch 4/30\n",
      "7352/7352 [==============================] - 42s 6ms/step - loss: 1.1941 - accuracy: 0.3383 - val_loss: 1.1198 - val_accuracy: 0.3488\n",
      "Epoch 5/30\n",
      "7352/7352 [==============================] - 42s 6ms/step - loss: 1.1467 - accuracy: 0.3485 - val_loss: 1.1192 - val_accuracy: 0.3488\n",
      "Epoch 6/30\n",
      "7352/7352 [==============================] - 42s 6ms/step - loss: 1.1349 - accuracy: 0.3561 - val_loss: 1.1176 - val_accuracy: 0.3471\n",
      "Epoch 7/30\n",
      "7352/7352 [==============================] - 42s 6ms/step - loss: 1.1468 - accuracy: 0.3492 - val_loss: 1.1183 - val_accuracy: 0.3441\n",
      "Epoch 8/30\n",
      "7352/7352 [==============================] - 42s 6ms/step - loss: 1.1263 - accuracy: 0.3539 - val_loss: 1.0721 - val_accuracy: 0.3441\n",
      "Epoch 9/30\n",
      "7352/7352 [==============================] - 46s 6ms/step - loss: 1.1238 - accuracy: 0.3478 - val_loss: 1.1141 - val_accuracy: 0.3465\n",
      "Epoch 10/30\n",
      "7352/7352 [==============================] - 37s 5ms/step - loss: 1.1213 - accuracy: 0.3512 - val_loss: 1.0448 - val_accuracy: 0.3482\n",
      "Epoch 11/30\n",
      "7352/7352 [==============================] - 44s 6ms/step - loss: 1.0598 - accuracy: 0.3668 - val_loss: 1.0897 - val_accuracy: 0.3760\n",
      "Epoch 12/30\n",
      "7352/7352 [==============================] - 43s 6ms/step - loss: 1.0544 - accuracy: 0.3794 - val_loss: 0.9824 - val_accuracy: 0.3821\n",
      "Epoch 13/30\n",
      "7352/7352 [==============================] - 45s 6ms/step - loss: 1.0332 - accuracy: 0.3847 - val_loss: 0.9881 - val_accuracy: 0.3974\n",
      "Epoch 14/30\n",
      "7352/7352 [==============================] - 42s 6ms/step - loss: 1.1070 - accuracy: 0.3825 - val_loss: 1.0037 - val_accuracy: 0.4062\n",
      "Epoch 15/30\n",
      "7352/7352 [==============================] - 42s 6ms/step - loss: 1.0626 - accuracy: 0.4008 - val_loss: 1.0069 - val_accuracy: 0.4167\n",
      "Epoch 16/30\n",
      "7352/7352 [==============================] - 45s 6ms/step - loss: 1.0457 - accuracy: 0.4317 - val_loss: 0.9830 - val_accuracy: 0.4751\n",
      "Epoch 17/30\n",
      "7352/7352 [==============================] - 45s 6ms/step - loss: 1.1741 - accuracy: 0.4282 - val_loss: 1.0049 - val_accuracy: 0.4354\n",
      "Epoch 18/30\n",
      "7352/7352 [==============================] - 46s 6ms/step - loss: 1.0543 - accuracy: 0.4626 - val_loss: 0.9166 - val_accuracy: 0.4778\n",
      "Epoch 19/30\n",
      "7352/7352 [==============================] - 45s 6ms/step - loss: 0.9661 - accuracy: 0.4718 - val_loss: 0.8983 - val_accuracy: 0.5066\n",
      "Epoch 20/30\n",
      "7352/7352 [==============================] - 44s 6ms/step - loss: 0.9483 - accuracy: 0.4925 - val_loss: 0.8595 - val_accuracy: 0.5256\n",
      "Epoch 21/30\n",
      "7352/7352 [==============================] - 43s 6ms/step - loss: 0.9734 - accuracy: 0.4914 - val_loss: 1.8607 - val_accuracy: 0.4048\n",
      "Epoch 22/30\n",
      "7352/7352 [==============================] - 43s 6ms/step - loss: 1.0146 - accuracy: 0.4761 - val_loss: 0.8737 - val_accuracy: 0.5290\n",
      "Epoch 23/30\n",
      "7352/7352 [==============================] - 45s 6ms/step - loss: 0.9802 - accuracy: 0.4927 - val_loss: 0.8596 - val_accuracy: 0.5209\n",
      "Epoch 24/30\n",
      "7352/7352 [==============================] - 43s 6ms/step - loss: 1.1763 - accuracy: 0.4642 - val_loss: 0.8963 - val_accuracy: 0.5419\n",
      "Epoch 25/30\n",
      "7352/7352 [==============================] - 43s 6ms/step - loss: 1.0418 - accuracy: 0.4922 - val_loss: 0.8699 - val_accuracy: 0.5334\n",
      "Epoch 26/30\n",
      "7352/7352 [==============================] - 41s 6ms/step - loss: 1.2201 - accuracy: 0.4827 - val_loss: 0.8525 - val_accuracy: 0.5460\n",
      "Epoch 27/30\n",
      "7352/7352 [==============================] - 41s 6ms/step - loss: 0.9493 - accuracy: 0.5076 - val_loss: 2.5722 - val_accuracy: 0.3651\n",
      "Epoch 28/30\n",
      "7352/7352 [==============================] - 42s 6ms/step - loss: 1.0133 - accuracy: 0.5177 - val_loss: 1.0430 - val_accuracy: 0.5022\n",
      "Epoch 29/30\n",
      "7352/7352 [==============================] - 44s 6ms/step - loss: 0.8993 - accuracy: 0.5316 - val_loss: 0.8070 - val_accuracy: 0.5762\n",
      "Epoch 30/30\n",
      "7352/7352 [==============================] - 42s 6ms/step - loss: 0.8570 - accuracy: 0.5494 - val_loss: 0.7828 - val_accuracy: 0.5860\n"
     ]
    },
    {
     "data": {
      "text/plain": [
       "<keras.callbacks.callbacks.History at 0x2c50ffb7748>"
      ]
     },
     "execution_count": 70,
     "metadata": {},
     "output_type": "execute_result"
    }
   ],
   "source": [
    "# Training the model\n",
    "model.fit(X_train,\n",
    "          Y_train,\n",
    "          batch_size=batch_size,\n",
    "          validation_data=(X_test, Y_test),\n",
    "          epochs=epochs)"
   ]
  },
  {
   "cell_type": "code",
   "execution_count": 72,
   "metadata": {},
   "outputs": [
    {
     "name": "stdout",
     "output_type": "stream",
     "text": [
      "Pred                LAYING  WALKING  WALKING_DOWNSTAIRS  WALKING_UPSTAIRS\n",
      "True                                                                     \n",
      "LAYING                 536        1                   0                 0\n",
      "SITTING                490        1                   0                 0\n",
      "STANDING               532        0                   0                 0\n",
      "WALKING                  0      474                   2                20\n",
      "WALKING_DOWNSTAIRS       0        2                 385                33\n",
      "WALKING_UPSTAIRS         0       47                  92               332\n"
     ]
    }
   ],
   "source": [
    "print(confusion_matrix(Y_test, model.predict(X_test)))"
   ]
  },
  {
   "cell_type": "code",
   "execution_count": 73,
   "metadata": {},
   "outputs": [
    {
     "name": "stdout",
     "output_type": "stream",
     "text": [
      "2947/2947 [==============================] - 2s 699us/step\n"
     ]
    }
   ],
   "source": [
    "score=model.evaluate(X_test,Y_test)"
   ]
  },
  {
   "cell_type": "code",
   "execution_count": 74,
   "metadata": {},
   "outputs": [
    {
     "data": {
      "text/plain": [
       "[0.7828343284910801, 0.5860196948051453]"
      ]
     },
     "execution_count": 74,
     "metadata": {},
     "output_type": "execute_result"
    }
   ],
   "source": [
    "score"
   ]
  },
  {
   "cell_type": "code",
   "execution_count": null,
   "metadata": {},
   "outputs": [],
   "source": []
  }
 ],
 "metadata": {
  "kernelspec": {
   "display_name": "Python 3",
   "language": "python",
   "name": "python3"
  },
  "language_info": {
   "codemirror_mode": {
    "name": "ipython",
    "version": 3
   },
   "file_extension": ".py",
   "mimetype": "text/x-python",
   "name": "python",
   "nbconvert_exporter": "python",
   "pygments_lexer": "ipython3",
   "version": "3.7.3"
  }
 },
 "nbformat": 4,
 "nbformat_minor": 2
}
